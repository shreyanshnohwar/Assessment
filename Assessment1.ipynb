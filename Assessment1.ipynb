{
 "cells": [
  {
   "cell_type": "code",
   "execution_count": 7,
   "id": "3e6e6364-ccbd-4bed-8fee-2046033528ca",
   "metadata": {},
   "outputs": [
    {
     "name": "stdout",
     "output_type": "stream",
     "text": [
      "Epoch [1/50], Loss: 1.2581, Train Acc: 0.3333, Test Acc: 0.3000\n",
      "Epoch [2/50], Loss: 1.2543, Train Acc: 0.3333, Test Acc: 0.3000\n",
      "Epoch [3/50], Loss: 1.2507, Train Acc: 0.3333, Test Acc: 0.3000\n",
      "Epoch [4/50], Loss: 1.2471, Train Acc: 0.3333, Test Acc: 0.3333\n",
      "Epoch [5/50], Loss: 1.2435, Train Acc: 0.3333, Test Acc: 0.3333\n",
      "Epoch [6/50], Loss: 1.2399, Train Acc: 0.3333, Test Acc: 0.3333\n",
      "Epoch [7/50], Loss: 1.2364, Train Acc: 0.3333, Test Acc: 0.3333\n",
      "Epoch [8/50], Loss: 1.2330, Train Acc: 0.3333, Test Acc: 0.3333\n",
      "Epoch [9/50], Loss: 1.2295, Train Acc: 0.3417, Test Acc: 0.3333\n",
      "Epoch [10/50], Loss: 1.2262, Train Acc: 0.3417, Test Acc: 0.3333\n",
      "Epoch [11/50], Loss: 1.2228, Train Acc: 0.3417, Test Acc: 0.3333\n",
      "Epoch [12/50], Loss: 1.2195, Train Acc: 0.3417, Test Acc: 0.3333\n",
      "Epoch [13/50], Loss: 1.2162, Train Acc: 0.3417, Test Acc: 0.3333\n",
      "Epoch [14/50], Loss: 1.2130, Train Acc: 0.3417, Test Acc: 0.3333\n",
      "Epoch [15/50], Loss: 1.2098, Train Acc: 0.3417, Test Acc: 0.3333\n",
      "Epoch [16/50], Loss: 1.2066, Train Acc: 0.3417, Test Acc: 0.3333\n",
      "Epoch [17/50], Loss: 1.2035, Train Acc: 0.3417, Test Acc: 0.3333\n",
      "Epoch [18/50], Loss: 1.2004, Train Acc: 0.3417, Test Acc: 0.3333\n",
      "Epoch [19/50], Loss: 1.1973, Train Acc: 0.3500, Test Acc: 0.3333\n",
      "Epoch [20/50], Loss: 1.1943, Train Acc: 0.3500, Test Acc: 0.3333\n",
      "Epoch [21/50], Loss: 1.1913, Train Acc: 0.3500, Test Acc: 0.3333\n",
      "Epoch [22/50], Loss: 1.1883, Train Acc: 0.3500, Test Acc: 0.3333\n",
      "Epoch [23/50], Loss: 1.1853, Train Acc: 0.3500, Test Acc: 0.3333\n",
      "Epoch [24/50], Loss: 1.1824, Train Acc: 0.3500, Test Acc: 0.3333\n",
      "Epoch [25/50], Loss: 1.1795, Train Acc: 0.3500, Test Acc: 0.3333\n",
      "Epoch [26/50], Loss: 1.1766, Train Acc: 0.3500, Test Acc: 0.3333\n",
      "Epoch [27/50], Loss: 1.1737, Train Acc: 0.3500, Test Acc: 0.3333\n",
      "Epoch [28/50], Loss: 1.1709, Train Acc: 0.3500, Test Acc: 0.3333\n",
      "Epoch [29/50], Loss: 1.1681, Train Acc: 0.3500, Test Acc: 0.3333\n",
      "Epoch [30/50], Loss: 1.1653, Train Acc: 0.3500, Test Acc: 0.3333\n",
      "Epoch [31/50], Loss: 1.1626, Train Acc: 0.3500, Test Acc: 0.3333\n",
      "Epoch [32/50], Loss: 1.1598, Train Acc: 0.3500, Test Acc: 0.3333\n",
      "Epoch [33/50], Loss: 1.1571, Train Acc: 0.3500, Test Acc: 0.3333\n",
      "Epoch [34/50], Loss: 1.1544, Train Acc: 0.3500, Test Acc: 0.3333\n",
      "Epoch [35/50], Loss: 1.1517, Train Acc: 0.3583, Test Acc: 0.3333\n",
      "Epoch [36/50], Loss: 1.1491, Train Acc: 0.3583, Test Acc: 0.3333\n",
      "Epoch [37/50], Loss: 1.1464, Train Acc: 0.3583, Test Acc: 0.3333\n",
      "Epoch [38/50], Loss: 1.1438, Train Acc: 0.3583, Test Acc: 0.3333\n",
      "Epoch [39/50], Loss: 1.1412, Train Acc: 0.3583, Test Acc: 0.3333\n",
      "Epoch [40/50], Loss: 1.1386, Train Acc: 0.3583, Test Acc: 0.3333\n",
      "Epoch [41/50], Loss: 1.1360, Train Acc: 0.3583, Test Acc: 0.3333\n",
      "Epoch [42/50], Loss: 1.1335, Train Acc: 0.3583, Test Acc: 0.3333\n",
      "Epoch [43/50], Loss: 1.1309, Train Acc: 0.3583, Test Acc: 0.3333\n",
      "Epoch [44/50], Loss: 1.1284, Train Acc: 0.3583, Test Acc: 0.3333\n",
      "Epoch [45/50], Loss: 1.1259, Train Acc: 0.3583, Test Acc: 0.3333\n",
      "Epoch [46/50], Loss: 1.1235, Train Acc: 0.3583, Test Acc: 0.3333\n",
      "Epoch [47/50], Loss: 1.1210, Train Acc: 0.3583, Test Acc: 0.3333\n",
      "Epoch [48/50], Loss: 1.1185, Train Acc: 0.3583, Test Acc: 0.3333\n",
      "Epoch [49/50], Loss: 1.1161, Train Acc: 0.3667, Test Acc: 0.3333\n",
      "Epoch [50/50], Loss: 1.1137, Train Acc: 0.3667, Test Acc: 0.3333\n"
     ]
    },
    {
     "data": {
      "image/png": "[encoded data removed]",
      "text/plain": [
       "<Figure size 640x480 with 1 Axes>"
      ]
     },
     "metadata": {},
     "output_type": "display_data"
    }
   ],
   "source": [
    "from sklearn.model_selection import train_test_split\n",
    "import matplotlib.pyplot as plt\n",
    "\n",
    "from sklearn.preprocessing import StandardScaler\n",
    "import torch\n",
    "import torch.nn as nn\n",
    "import torch.optim as optim \n",
    "from sklearn.datasets import load_iris\n",
    "iris = load_iris()\n",
    "\n",
    "X = iris.data\n",
    "y = iris.target\n",
    "\n",
    "# Normalize the features\n",
    "scaler = StandardScaler()\n",
    "X = scaler.fit_transform(X)\n",
    "\n",
    "# Split into train (80%) and test (20%)\n",
    "X_train, X_test, y_train, y_test = train_test_split(X, y, test_size=0.2, random_state=42)\n",
    "\n",
    "# Convert to PyTorch tensors\n",
    "X_train_tensor = torch.tensor(X_train, dtype=torch.float32)\n",
    "y_train_tensor = torch.tensor(y_train, dtype=torch.long)\n",
    "X_test_tensor = torch.tensor(X_test, dtype=torch.float32)\n",
    "y_test_tensor = torch.tensor(y_test, dtype=torch.long)\n",
    "\n",
    "# Define the model\n",
    "class TwoLayerNN(nn.Module):\n",
    "    def __init__(self):\n",
    "        super(TwoLayerNN, self).__init__()\n",
    "        self.fc1 = nn.Linear(4, 10)\n",
    "        self.fc2 = nn.Linear(10, 3)\n",
    "\n",
    "    def forward(self, x):\n",
    "        x = torch.relu(self.fc1(x))\n",
    "        x = self.fc2(x)\n",
    "        return x\n",
    "\n",
    "model = TwoLayerNN()\n",
    "criterion = nn.CrossEntropyLoss()\n",
    "optimizer = optim.SGD(model.parameters(), lr=0.01)\n",
    "epochs = 50\n",
    "\n",
    "train_acc_list = []\n",
    "test_acc_list = []\n",
    "\n",
    "for epoch in range(epochs):\n",
    "    outputs = model(X_train_tensor)\n",
    "    loss = criterion(outputs, y_train_tensor)\n",
    "    optimizer.zero_grad()\n",
    "    loss.backward()\n",
    "    optimizer.step()\n",
    "\n",
    "    with torch.no_grad():\n",
    "        train_preds = torch.argmax(model(X_train_tensor), dim=1)\n",
    "        test_preds = torch.argmax(model(X_test_tensor), dim=1)\n",
    "        train_acc = (train_preds == y_train_tensor).float().mean().item()\n",
    "        test_acc = (test_preds == y_test_tensor).float().mean().item()\n",
    "\n",
    "    train_acc_list.append(train_acc)\n",
    "    test_acc_list.append(test_acc)\n",
    "    print(f\"Epoch [{epoch+1}/{epochs}], Loss: {loss.item():.4f}, Train Acc: {train_acc:.4f}, Test Acc: {test_acc:.4f}\")\n",
    "\n",
    "plt.plot(range(1, epochs+1), train_acc_list, label='Train Accuracy')\n",
    "plt.plot(range(1, epochs+1), test_acc_list, label='Test Accuracy')\n",
    "plt.xlabel('Epoch')\n",
    "plt.ylabel('Accuracy')\n",
    "plt.title('Accuracy vs Epoch')\n",
    "plt.legend()\n",
    "plt.grid(True)\n",
    "plt.savefig(\"accuracy_plot.png\")"
   ]
  },
  {
   "cell_type": "code",
   "execution_count": 2,
   "id": "510f2eb0-a2cc-464f-9208-e6afcb9fe101",
   "metadata": {},
   "outputs": [
    {
     "name": "stdout",
     "output_type": "stream",
     "text": [
      "2.5.1\n",
      "CUDA Available: False\n"
     ]
    }
   ],
   "source": [
    "import torch\n",
    "print(torch.__version__)\n",
    "print(\"CUDA Available:\", torch.cuda.is_available())\n"
   ]
  },
  {
   "cell_type": "code",
   "execution_count": null,
   "id": "250d6599-605f-4b7c-aa7f-fd361bf98db4",
   "metadata": {},
   "outputs": [],
   "source": []
  }
 ],
 "metadata": {
  "kernelspec": {
   "display_name": "Python 3 (ipykernel)",
   "language": "python",
   "name": "python3"
  },
  "language_info": {
   "codemirror_mode": {
    "name": "ipython",
    "version": 3
   },
   "file_extension": ".py",
   "mimetype": "text/x-python",
   "name": "python",
   "nbconvert_exporter": "python",
   "pygments_lexer": "ipython3",
   "version": "3.12.4"
  }
 },
 "nbformat": 4,
 "nbformat_minor": 5
}
